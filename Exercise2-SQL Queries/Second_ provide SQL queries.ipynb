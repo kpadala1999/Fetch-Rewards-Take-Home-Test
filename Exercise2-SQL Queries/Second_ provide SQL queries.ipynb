{
 "cells": [
  {
   "cell_type": "code",
   "execution_count": 29,
   "id": "0c7a93e6",
   "metadata": {},
   "outputs": [
    {
     "data": {
      "text/plain": [
       "100000"
      ]
     },
     "execution_count": 29,
     "metadata": {},
     "output_type": "execute_result"
    }
   ],
   "source": [
    "import sqlite3\n",
    "import pandas as pd\n",
    "\n",
    "# Loading CSV files into Pandas DataFrames\n",
    "\n",
    "products = pd.read_csv('/Users/nani/Desktop/Fetch/PRODUCTS_TAKEHOME.csv')\n",
    "transactions = pd.read_csv('/Users/nani/Desktop/Fetch/TRANSACTION_TAKEHOME.csv')\n",
    "users = pd.read_csv('/Users/nani/Desktop/Fetch/USER_TAKEHOME.csv')\n",
    "conn = sqlite3.connect(':memory:')\n",
    "\n",
    "#DataFrame into a SQL table (table names are lowercase)\n",
    "products.to_sql('products', conn, index=False, if_exists='replace')\n",
    "transactions.to_sql('transactions', conn, index=False, if_exists='replace')\n",
    "users.to_sql('users', conn, index=False, if_exists='replace')"
   ]
  },
  {
   "cell_type": "code",
   "execution_count": 30,
   "id": "1fa81480",
   "metadata": {},
   "outputs": [],
   "source": [
    "#SQL queries\n",
    "#Closed-ended questions:"
   ]
  },
  {
   "cell_type": "code",
   "execution_count": 31,
   "id": "be660895",
   "metadata": {},
   "outputs": [],
   "source": [
    "#What are the top 5 brands by receipts scanned among users 21 and over?"
   ]
  },
  {
   "cell_type": "code",
   "execution_count": 32,
   "id": "7eeb815a",
   "metadata": {},
   "outputs": [
    {
     "name": "stdout",
     "output_type": "stream",
     "text": [
      "Top 5 Brands by Receipts Scanned Among Users 21 and Over (without any null values):\n",
      "             BRAND  receipts_scanned\n",
      "0      NERDS CANDY                 6\n",
      "1             DOVE                 6\n",
      "2          TRIDENT                 4\n",
      "3  SOUR PATCH KIDS                 4\n",
      "4           MEIJER                 4\n"
     ]
    }
   ],
   "source": [
    "query_alt = \"\"\"\n",
    "WITH eligible_users AS (\n",
    "    SELECT \n",
    "        ID AS USER_ID,\n",
    "        BIRTH_DATE,\n",
    "        (julianday('now') - julianday(BIRTH_DATE)) / 365.25 AS AGE\n",
    "    FROM users\n",
    "    WHERE BIRTH_DATE IS NOT NULL\n",
    "),\n",
    "valid_transactions AS (\n",
    "    SELECT \n",
    "        t.RECEIPT_ID, \n",
    "        t.USER_ID, \n",
    "        t.BARCODE\n",
    "    FROM transactions t\n",
    "    WHERE t.RECEIPT_ID IS NOT NULL\n",
    "),\n",
    "joined_data AS (\n",
    "    SELECT \n",
    "        vt.RECEIPT_ID,\n",
    "        p.BRAND\n",
    "    FROM valid_transactions vt\n",
    "    JOIN eligible_users eu ON vt.USER_ID = eu.USER_ID\n",
    "    JOIN products p ON vt.BARCODE = p.BARCODE\n",
    "    WHERE eu.AGE >= 21 AND p.BRAND IS NOT NULL\n",
    ")\n",
    "SELECT \n",
    "    BRAND, \n",
    "    COUNT(RECEIPT_ID) AS receipts_scanned\n",
    "FROM joined_data\n",
    "GROUP BY BRAND\n",
    "ORDER BY receipts_scanned DESC\n",
    "LIMIT 5;\n",
    "\"\"\"\n",
    "\n",
    "\n",
    "#result\n",
    "print(\"Top 5 Brands by Receipts Scanned Among Users 21 and Over (without any null values):\")\n",
    "print(df_alt_query)\n"
   ]
  },
  {
   "cell_type": "code",
   "execution_count": 33,
   "id": "a052bf6f",
   "metadata": {},
   "outputs": [],
   "source": [
    "#What are the top 5 brands by sales among users that have had their account for at least six months?"
   ]
  },
  {
   "cell_type": "code",
   "execution_count": 34,
   "id": "b8ad5147",
   "metadata": {},
   "outputs": [
    {
     "name": "stdout",
     "output_type": "stream",
     "text": [
      "Top 5 Brands by Sales Among Users with Accounts Older Than 6 Months:\n",
      "         BRAND  total_sales\n",
      "0          CVS        72.00\n",
      "1      TRIDENT        46.72\n",
      "2         DOVE        42.88\n",
      "3  COORS LIGHT        34.96\n",
      "4       QUAKER        16.60\n"
     ]
    }
   ],
   "source": [
    "query_top_sales_6months = \"\"\"\n",
    "WITH eligible_users AS (\n",
    "    SELECT \n",
    "        ID AS USER_ID,\n",
    "        CREATED_DATE,\n",
    "        (julianday('now') - julianday(CREATED_DATE)) / 30.44 AS account_age_months\n",
    "    FROM users\n",
    "    WHERE CREATED_DATE IS NOT NULL\n",
    "),\n",
    "valid_transactions AS (\n",
    "    SELECT \n",
    "        t.USER_ID,\n",
    "        t.BARCODE,\n",
    "        t.FINAL_SALE\n",
    "    FROM transactions t\n",
    "    WHERE t.FINAL_SALE IS NOT NULL\n",
    "),\n",
    "joined_data AS (\n",
    "    SELECT \n",
    "        vt.FINAL_SALE,\n",
    "        p.BRAND\n",
    "    FROM valid_transactions vt\n",
    "    JOIN eligible_users eu ON vt.USER_ID = eu.USER_ID\n",
    "    JOIN products p ON vt.BARCODE = p.BARCODE\n",
    "    WHERE eu.account_age_months >= 6 AND p.BRAND IS NOT NULL\n",
    ")\n",
    "SELECT \n",
    "    BRAND,\n",
    "    ROUND(SUM(FINAL_SALE), 2) AS total_sales\n",
    "FROM joined_data\n",
    "GROUP BY BRAND\n",
    "ORDER BY total_sales DESC\n",
    "LIMIT 5;\n",
    "\"\"\"\n",
    "\n",
    "df_top_sales_6months = pd.read_sql(query_top_sales_6months, conn)\n",
    "print(\"Top 5 Brands by Sales Among Users with Accounts Older Than 6 Months:\")\n",
    "print(df_top_sales_6months)\n"
   ]
  },
  {
   "cell_type": "code",
   "execution_count": 35,
   "id": "4b9a54a0",
   "metadata": {},
   "outputs": [],
   "source": [
    "#What is the percentage of sales in the Health & Wellness category by generation?"
   ]
  },
  {
   "cell_type": "code",
   "execution_count": 36,
   "id": "6cc74a70",
   "metadata": {},
   "outputs": [
    {
     "name": "stdout",
     "output_type": "stream",
     "text": [
      "Percentage of Sales in Health & Wellness Category by Generation:\n",
      "          generation  health_sales  total_sales  health_sales_percentage\n",
      "0        Millennials         59.13       147.97                    39.96\n",
      "1            Boomers         89.03       225.57                    39.47\n",
      "2              Gen X         41.50       138.95                    29.87\n",
      "3  Silent Generation          0.00        13.42                     0.00\n",
      "4              Gen Z          0.00         1.97                     0.00\n"
     ]
    }
   ],
   "source": [
    "query_health_sales_by_generation = \"\"\"\n",
    "WITH user_generations AS (\n",
    "    SELECT \n",
    "        ID AS USER_ID,\n",
    "        BIRTH_DATE,\n",
    "        CASE\n",
    "            WHEN CAST(strftime('%Y', BIRTH_DATE) AS INTEGER) >= 1997 THEN 'Gen Z'\n",
    "            WHEN CAST(strftime('%Y', BIRTH_DATE) AS INTEGER) BETWEEN 1981 AND 1996 THEN 'Millennials'\n",
    "            WHEN CAST(strftime('%Y', BIRTH_DATE) AS INTEGER) BETWEEN 1965 AND 1980 THEN 'Gen X'\n",
    "            WHEN CAST(strftime('%Y', BIRTH_DATE) AS INTEGER) BETWEEN 1946 AND 1964 THEN 'Boomers'\n",
    "            ELSE 'Silent Generation'\n",
    "        END AS generation\n",
    "    FROM users\n",
    "    WHERE BIRTH_DATE IS NOT NULL\n",
    "),\n",
    "joined_data AS (\n",
    "    SELECT \n",
    "        ug.generation,\n",
    "        t.FINAL_SALE,\n",
    "        p.CATEGORY_1\n",
    "    FROM transactions t\n",
    "    JOIN user_generations ug ON t.USER_ID = ug.USER_ID\n",
    "    JOIN products p ON t.BARCODE = p.BARCODE\n",
    "    WHERE t.FINAL_SALE IS NOT NULL\n",
    ")\n",
    "SELECT \n",
    "    generation,\n",
    "    ROUND(SUM(CASE WHEN CATEGORY_1 = 'Health & Wellness' THEN FINAL_SALE ELSE 0 END), 2) AS health_sales,\n",
    "    ROUND(SUM(FINAL_SALE), 2) AS total_sales,\n",
    "    ROUND(SUM(CASE WHEN CATEGORY_1 = 'Health & Wellness' THEN FINAL_SALE ELSE 0 END) * 100.0 / SUM(FINAL_SALE), 2) AS health_sales_percentage\n",
    "FROM joined_data\n",
    "GROUP BY generation\n",
    "ORDER BY health_sales_percentage DESC;\n",
    "\"\"\"\n",
    "\n",
    "df_health_sales_by_generation = pd.read_sql(query_health_sales_by_generation, conn)\n",
    "print(\"Percentage of Sales in Health & Wellness Category by Generation:\")\n",
    "print(df_health_sales_by_generation)\n"
   ]
  },
  {
   "cell_type": "code",
   "execution_count": 37,
   "id": "23d52ff9",
   "metadata": {},
   "outputs": [],
   "source": [
    "#Open-ended questions: for these, make assumptions and clearly state them when answering the question."
   ]
  },
  {
   "cell_type": "code",
   "execution_count": 38,
   "id": "4e44a780",
   "metadata": {},
   "outputs": [],
   "source": [
    "#Who are Fetch’s power users?"
   ]
  },
  {
   "cell_type": "code",
   "execution_count": 39,
   "id": "fbd1b0e9",
   "metadata": {},
   "outputs": [],
   "source": [
    "# A power user is a person or a record that has scanned a high number of receipts or a record that has high purchase value\n",
    "\n",
    "# For example calculating top 5%  of all users in total FINAL_SALE "
   ]
  },
  {
   "cell_type": "code",
   "execution_count": 55,
   "id": "69aab779",
   "metadata": {},
   "outputs": [
    {
     "name": "stdout",
     "output_type": "stream",
     "text": [
      "Top Power Users (top 5% by spend or receipts):\n",
      "                        USER_ID  total_receipts  total_spend\n",
      "10392  630789e1101ae272a4852287               1       925.64\n",
      "12195  63af23db9f3fc9c7546fdbec               1       476.34\n",
      "14830  650874eafe41d365c2ee11d2               1       267.29\n",
      "13636  645add3bffe0d7e043ef1b63               4       227.93\n",
      "11564  637257e75fdbb03aa198a310               4       194.14\n",
      "12321  63ba250039c79dcbdd4fbc6c               1       187.04\n",
      "15101  6535138fdda97e6b1342ea7f               3       146.65\n",
      "6109   610b3d5002b8c34bbf3a589d               2       144.96\n",
      "1527   5d61b8e71ddc4058bd98f776               1       143.94\n",
      "2248   5e022fe1daccde120544eb42               3       140.74\n"
     ]
    }
   ],
   "source": [
    "import sqlite3\n",
    "import pandas as pd\n",
    "\n",
    "# Load CSV files \n",
    "\n",
    "products = pd.read_csv('/Users/nani/Desktop/Fetch/PRODUCTS_TAKEHOME.csv')\n",
    "transactions = pd.read_csv('/Users/nani/Desktop/Fetch/TRANSACTION_TAKEHOME.csv')\n",
    "users = pd.read_csv('/Users/nani/Desktop/Fetch/USER_TAKEHOME.csv')\n",
    "conn = sqlite3.connect(':memory:')\n",
    "products.to_sql('products', conn, index=False, if_exists='replace')\n",
    "transactions.to_sql('transactions', conn, index=False, if_exists='replace')\n",
    "users.to_sql('users', conn, index=False, if_exists='replace')\n",
    "transactions['FINAL_SALE'] = pd.to_numeric(transactions['FINAL_SALE'], errors='coerce')\n",
    "cleaned_transactions = transactions.dropna(subset=['FINAL_SALE', 'RECEIPT_ID'])\n",
    "\n",
    "# Aggregating  user-level totals\n",
    "user_sales = (\n",
    "    cleaned_transactions\n",
    "    .groupby('USER_ID')\n",
    "    .agg(total_receipts=('RECEIPT_ID', 'nunique'),\n",
    "         total_spend=('FINAL_SALE', 'sum'))\n",
    "    .reset_index()\n",
    ")\n",
    "\n",
    "# Calculating 95th percentiles\n",
    "receipt_threshold = user_sales['total_receipts'].quantile(0.95)\n",
    "spend_threshold = user_sales['total_spend'].quantile(0.95)\n",
    "\n",
    "# Calculating  power users\n",
    "power_users = user_sales[\n",
    "    (user_sales['total_receipts'] >= receipt_threshold) |\n",
    "    (user_sales['total_spend'] >= spend_threshold)\n",
    "].sort_values(by='total_spend', ascending=False)\n",
    "\n",
    "# result\n",
    "print(\"Top Power Users (top 5% by spend or receipts):\")\n",
    "print(power_users.head(10))"
   ]
  }
 ],
 "metadata": {
  "kernelspec": {
   "display_name": "Python 3 (ipykernel)",
   "language": "python",
   "name": "python3"
  },
  "language_info": {
   "codemirror_mode": {
    "name": "ipython",
    "version": 3
   },
   "file_extension": ".py",
   "mimetype": "text/x-python",
   "name": "python",
   "nbconvert_exporter": "python",
   "pygments_lexer": "ipython3",
   "version": "3.11.4"
  }
 },
 "nbformat": 4,
 "nbformat_minor": 5
}
